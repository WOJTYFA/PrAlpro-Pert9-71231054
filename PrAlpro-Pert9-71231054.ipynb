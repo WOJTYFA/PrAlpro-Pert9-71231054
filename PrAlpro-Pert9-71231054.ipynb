{
 "cells": [
  {
   "cell_type": "code",
   "execution_count": 1,
   "metadata": {},
   "outputs": [],
   "source": [
    "#latihan 8.1\n",
    "def membandingkan_file(file1 , file2):\n",
    "    with open(file1, \"r\") as f1, open(file2, \"r\") as f2:\n",
    "        lines1 = f1.readlines()\n",
    "        lines2 = f2.readlines()\n",
    "\n",
    "    num_lines1 = len(lines1)\n",
    "    num_lines2 = len(lines2)\n",
    "\n",
    "    max_lines = max(num_lines1, num_lines2)\n",
    "\n",
    "    for i in range(max_lines):\n",
    "        line1 = lines1[i].strip() if i < num_lines1 else \"\"\n",
    "        line2 = lines2[i].strip() if i < num_lines2 else \"\"\n",
    "\n",
    "        if line1 != line2:\n",
    "            print(f\"Perbedaan pada baris {i + 1}:\")\n",
    "            print(f\"File1: {line1}\")\n",
    "            print(f\"File2: {line2}\")\n",
    "            print()\n",
    "\n",
    "            \n",
    "        "
   ]
  },
  {
   "cell_type": "code",
   "execution_count": 2,
   "metadata": {},
   "outputs": [],
   "source": [
    "#latihan 8.2\n",
    "def baca_pertanyaan(file_path):\n",
    "    pertanyaan = []\n",
    "    with open(file_path, \"r\") as file:\n",
    "        for line in file:\n",
    "            part = line.split(\"||\")\n",
    "            pertanyaan = part[0].strip()\n",
    "            jawab = part[1].strip()\n",
    "            pertanyaan.append((pertanyaan, jawab))\n",
    "    return pertanyaan\n",
    "\n",
    "def main():\n",
    "    file_path = \"soal.txt\"\n",
    "    pertanyaan = baca_pertanyaan(file_path)\n",
    "\n",
    "    print(f\"nama file1: {file_path}\")\n",
    "    for pertanyaan, jawaban_benar in pertanyaan:\n",
    "        user_jawab = input(f\"{pertanyaan}\\nJawab: \").strip().lower()\n",
    "        if user_jawab == jawaban_benar.lower():\n",
    "            print(\"Jawaban benar!\")\n",
    "        else:\n",
    "            print(\"Jawaban salah!\")\n",
    "\n",
    "\n",
    "        "
   ]
  }
 ],
 "metadata": {
  "kernelspec": {
   "display_name": "Python 3",
   "language": "python",
   "name": "python3"
  },
  "language_info": {
   "codemirror_mode": {
    "name": "ipython",
    "version": 3
   },
   "file_extension": ".py",
   "mimetype": "text/x-python",
   "name": "python",
   "nbconvert_exporter": "python",
   "pygments_lexer": "ipython3",
   "version": "3.12.0"
  }
 },
 "nbformat": 4,
 "nbformat_minor": 2
}
